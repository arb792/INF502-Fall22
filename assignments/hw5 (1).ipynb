{
 "cells": [
  {
   "cell_type": "code",
   "execution_count": 27,
   "id": "3fd4dd64",
   "metadata": {},
   "outputs": [],
   "source": [
    "def GCF(a, b):\n",
    "    if a > b:\n",
    "        for i in range (1, b):\n",
    "            if ((a % i == 0) and (b % i == 0)):\n",
    "                resultGCF = i\n",
    "                print(\"GCF of\", a, \"and\", b, \"is\", resultGCF)\n",
    "    else:\n",
    "        for i in range (1, a):\n",
    "            if ((b % i == 0) and (a % i == 0)):\n",
    "                resultGCF = i\n",
    "                print(\"GCF of\", a, \"and\", b, \"is\", resultGCF)\n",
    "    return\n",
    "                \n",
    "\n",
    "        \n",
    "        \n",
    "        \n",
    "    \n",
    "    "
   ]
  },
  {
   "cell_type": "code",
   "execution_count": 14,
   "id": "7df721df",
   "metadata": {},
   "outputs": [
    {
     "name": "stdout",
     "output_type": "stream",
     "text": [
      "GCF of 22 and 66 is 1\n",
      "GCF of 22 and 66 is 2\n",
      "GCF of 22 and 66 is 11\n"
     ]
    }
   ],
   "source": [
    "GCF(22, 66)"
   ]
  },
  {
   "cell_type": "code",
   "execution_count": 28,
   "id": "45c6c6d2",
   "metadata": {},
   "outputs": [
    {
     "name": "stdout",
     "output_type": "stream",
     "text": [
      "GCF of 52 and 4896 is 1\n",
      "GCF of 52 and 4896 is 2\n",
      "GCF of 52 and 4896 is 4\n"
     ]
    }
   ],
   "source": [
    "GCF(52, 4896)"
   ]
  },
  {
   "cell_type": "code",
   "execution_count": 29,
   "id": "a134a0e3",
   "metadata": {},
   "outputs": [
    {
     "name": "stdout",
     "output_type": "stream",
     "text": [
      "GCF of 168 and 5634 is 1\n",
      "GCF of 168 and 5634 is 2\n",
      "GCF of 168 and 5634 is 3\n",
      "GCF of 168 and 5634 is 6\n"
     ]
    }
   ],
   "source": [
    "GCF(168, 5634)"
   ]
  },
  {
   "cell_type": "code",
   "execution_count": 30,
   "id": "f1e02b87",
   "metadata": {},
   "outputs": [
    {
     "name": "stdout",
     "output_type": "stream",
     "text": [
      "GCF of 678453 and 468 is 1\n",
      "GCF of 678453 and 468 is 3\n"
     ]
    }
   ],
   "source": [
    "GCF(678453, 468)"
   ]
  },
  {
   "cell_type": "code",
   "execution_count": null,
   "id": "272caa6f",
   "metadata": {},
   "outputs": [],
   "source": [
    "#For the implementation of the GCF function I needed to determine what the indivdual divisions of a and b are.\n",
    "#From there, I needed to determine when both a and b were at zero with the same value. \n",
    "#Once the zero values were determined, it need to print the values that were the same.\n",
    "#For another pair of values, using 4 and 16, we will walk through what the function does with these values\n",
    "#First, the function will determine all of the values that 4 and 16 are indivudally divisible by till they reach 0.\n",
    "#From there, the function determines which values are divisible in both 4 and 16.\n",
    "#The fucntion then prints each value that is divisible in both 4 and 16"
   ]
  }
 ],
 "metadata": {
  "kernelspec": {
   "display_name": "Python 3 (ipykernel)",
   "language": "python",
   "name": "python3"
  },
  "language_info": {
   "codemirror_mode": {
    "name": "ipython",
    "version": 3
   },
   "file_extension": ".py",
   "mimetype": "text/x-python",
   "name": "python",
   "nbconvert_exporter": "python",
   "pygments_lexer": "ipython3",
   "version": "3.9.13"
  }
 },
 "nbformat": 4,
 "nbformat_minor": 5
}

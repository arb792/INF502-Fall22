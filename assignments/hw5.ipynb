{
 "cells": [
  {
   "cell_type": "code",
   "execution_count": 13,
   "id": "26ba5dd2",
   "metadata": {},
   "outputs": [],
   "source": [
    "def GCF(a, b):\n",
    "    if a > b:\n",
    "        for i in range (1, b):\n",
    "            if ((a % i == 0) and (b % i == 0)):\n",
    "                resultGCF = i\n",
    "                print(\"GCF of\", a, \"and\", b, \"is\", resultGCF)\n",
    "    else:\n",
    "        for i in range (1, a):\n",
    "            if ((b % i == 0) and (a % i == 0)):\n",
    "                resultGCF = i\n",
    "                print(\"GCF of\", a, \"and\", b, \"is\", resultGCF)\n",
    "    return\n",
    "                \n",
    "\n",
    "        \n",
    "        \n",
    "        \n",
    "    \n",
    "    "
   ]
  },
  {
   "cell_type": "code",
   "execution_count": 14,
   "id": "ba5e949e",
   "metadata": {},
   "outputs": [
    {
     "name": "stdout",
     "output_type": "stream",
     "text": [
      "GCF of 22 and 66 is 1\n",
      "GCF of 22 and 66 is 2\n",
      "GCF of 22 and 66 is 11\n"
     ]
    }
   ],
   "source": [
    "GCF(22, 66)"
   ]
  },
  {
   "cell_type": "code",
   "execution_count": 22,
   "id": "58e959bd",
   "metadata": {},
   "outputs": [],
   "source": [
    "\n"
   ]
  },
  {
   "cell_type": "code",
   "execution_count": 23,
   "id": "3aa323eb",
   "metadata": {},
   "outputs": [],
   "source": []
  },
  {
   "cell_type": "code",
   "execution_count": null,
   "id": "1b266184",
   "metadata": {},
   "outputs": [],
   "source": []
  }
 ],
 "metadata": {
  "kernelspec": {
   "display_name": "Python 3 (ipykernel)",
   "language": "python",
   "name": "python3"
  },
  "language_info": {
   "codemirror_mode": {
    "name": "ipython",
    "version": 3
   },
   "file_extension": ".py",
   "mimetype": "text/x-python",
   "name": "python",
   "nbconvert_exporter": "python",
   "pygments_lexer": "ipython3",
   "version": "3.9.13"
  }
 },
 "nbformat": 4,
 "nbformat_minor": 5
}
